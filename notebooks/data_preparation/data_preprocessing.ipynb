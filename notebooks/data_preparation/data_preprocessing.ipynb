{
 "cells": [
  {
   "cell_type": "code",
   "execution_count": null,
   "metadata": {},
   "outputs": [],
   "source": [
    "! python content/unilm/layoutlm/examples/seq_labeling/preprocess.py --data_dir path to your data/data/training_data/annotations \\\n",
    "                                                      --data_split train \\\n",
    "                                                      --output_dir path to your data/data \\\n",
    "                                                      --model_name_or_path microsoft/layoutlm-base-uncased \\\n",
    "                                                      --max_len 510"
   ]
  },
  {
   "cell_type": "code",
   "execution_count": null,
   "metadata": {},
   "outputs": [],
   "source": [
    "! python content/unilm/layoutlm/examples/seq_labeling/preprocess.py --data_dir path to your data/data/testing_data/annotations \\\n",
    "                                                      --data_split test \\\n",
    "                                                      --output_dir path to your data/data \\\n",
    "                                                      --model_name_or_path microsoft/layoutlm-base-uncased \\\n",
    "                                                      --max_len 510"
   ]
  },
  {
   "cell_type": "code",
   "execution_count": null,
   "metadata": {},
   "outputs": [],
   "source": []
  }
 ],
 "metadata": {
  "kernelspec": {
   "display_name": "layoutlm",
   "language": "python",
   "name": "python3"
  },
  "language_info": {
   "codemirror_mode": {
    "name": "ipython",
    "version": 3
   },
   "file_extension": ".py",
   "mimetype": "text/x-python",
   "name": "python",
   "nbconvert_exporter": "python",
   "pygments_lexer": "ipython3",
   "version": "3.9.18"
  }
 },
 "nbformat": 4,
 "nbformat_minor": 2
}
