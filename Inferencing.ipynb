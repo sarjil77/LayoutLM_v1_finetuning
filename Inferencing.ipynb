{
 "cells": [
  {
   "cell_type": "code",
   "execution_count": null,
   "metadata": {},
   "outputs": [],
   "source": [
    "from content.layout_lm_tutorial.layoutlm_preprocess import *\n",
    "import pytesseract"
   ]
  },
  {
   "cell_type": "code",
   "execution_count": null,
   "metadata": {},
   "outputs": [],
   "source": [
    "from PIL import Image"
   ]
  },
  {
   "cell_type": "code",
   "execution_count": null,
   "metadata": {},
   "outputs": [],
   "source": [
    "image = Image.open(\"your folder path/content/data/testing_data/images/invoice_250-page-1.jpg\")\n",
    "image = image.convert(\"RGB\")\n",
    "# image"
   ]
  },
  {
   "cell_type": "code",
   "execution_count": null,
   "metadata": {},
   "outputs": [],
   "source": [
    "from torch.nn import CrossEntropyLoss\n",
    "\n",
    "def get_labels(path):\n",
    "    with open(path, \"r\") as f:\n",
    "        labels = f.read().splitlines()\n",
    "    if \"O\" not in labels:\n",
    "        labels = [\"O\"] + labels\n",
    "    return labels\n",
    "\n",
    "labels = get_labels(\"your folder path/content/data/labels.txt\")\n",
    "num_labels = len(labels)\n",
    "label_map = {i: label for i, label in enumerate(labels)}\n",
    "# Use cross entropy ignore index as padding label id so that only real label ids contribute to the loss later\n",
    "# pad_token_label_id = CrossEntropyLoss().ignore_index"
   ]
  },
  {
   "cell_type": "code",
   "execution_count": null,
   "metadata": {},
   "outputs": [],
   "source": [
    "model_path='your folder path/content/layoutlm_invoices_May6_100epoch.pt'\n",
    "model=model_load(model_path,num_labels)\n",
    "image, words, boxes, actual_boxes = preprocess(\"your folder path/content/data/testing_data/images/invoice_250-page-1.jpg\")\n",
    "\n",
    "word_level_predictions, final_boxes=convert_to_features(image, words, boxes, actual_boxes, model)"
   ]
  },
  {
   "cell_type": "code",
   "execution_count": null,
   "metadata": {},
   "outputs": [],
   "source": [
    "invoice_labels = set([item[2:] for item in label_map.values() if len(item) > 1])"
   ]
  },
  {
   "cell_type": "code",
   "execution_count": null,
   "metadata": {},
   "outputs": [],
   "source": [
    "invoice_labels"
   ]
  },
  {
   "cell_type": "code",
   "execution_count": null,
   "metadata": {},
   "outputs": [],
   "source": [
    "final_predictions = {item: set() for item in invoice_labels}"
   ]
  },
  {
   "cell_type": "code",
   "execution_count": null,
   "metadata": {},
   "outputs": [],
   "source": [
    "image_path = 'your folder path/content/data/testing_data/images/invoice_250-page-1.jpg'\n",
    "image = cv2.imread(image_path)\n",
    "print(type(image))\n",
    "\n",
    "image = Image.open(image_path)\n",
    "print(type(image))"
   ]
  },
  {
   "cell_type": "code",
   "execution_count": null,
   "metadata": {},
   "outputs": [],
   "source": [
    "import pytesseract\n",
    "import cv2\n",
    "image_path = 'your folder path/content/data/testing_data/images/invoice_250-page-1.jpg'\n",
    "image = cv2.imread(image_path)\n",
    "# Open the image\n",
    "# image = Image.open(image_path)\n",
    "# draw = ImageDraw.Draw(image)\n",
    "# font = ImageFont.load_default()\n",
    "def iob_to_label(label):\n",
    "  if label != 'O':\n",
    "    return label[2:]\n",
    "  else:\n",
    "    return \"\"\n",
    "# label2color = {'invoice_number':'blue', 'invoice_date':'green', 'client_name':'coral', 'client_address':'hotpink', 'client_tax_id': 'springgreen', 'seller_name': 'black', 'seller_address': 'blueviolet', 'seller_tax_id': 'brown', 'iban': 'turquoise'}\n",
    "for prediction, box in zip(word_level_predictions, final_boxes):\n",
    "    predicted_label = iob_to_label(label_map[prediction]).upper()\n",
    "    if predicted_label:\n",
    "        x1, y1, x2, y2 = box\n",
    "        # Crop image to the rectangle\n",
    "        cropped_image = image[y1-10:y2+10, x1-10:x2+10]\n",
    "\n",
    "        # Perform OCR on the cropped region\n",
    "        text = pytesseract.image_to_string(cropped_image)\n",
    "        \n",
    "        # Print the extracted text\n",
    "        if len(text)>2:\n",
    "            print(predicted_label, text)\n",
    "            final_predictions[predicted_label].add(text.strip('\\n\\x0c'))\n"
   ]
  },
  {
   "cell_type": "code",
   "execution_count": null,
   "metadata": {},
   "outputs": [],
   "source": [
    "final_predictions"
   ]
  },
  {
   "cell_type": "code",
   "execution_count": null,
   "metadata": {},
   "outputs": [],
   "source": [
    "image_path = 'your folder path/content/data/testing_data/images/invoice_250-page-1.jpg'\n",
    "# Open the image\n",
    "image = Image.open(image_path)\n",
    "draw = ImageDraw.Draw(image)\n",
    "font = ImageFont.load_default()\n",
    "def iob_to_label(label):\n",
    "  if label != 'O':\n",
    "    return label[2:]\n",
    "  else:\n",
    "    return \"\"\n",
    "label2color = {'invoice_number':'blue', 'invoice_date':'green', 'client_name':'coral', 'client_address':'hotpink', 'client_tax_id': 'springgreen', 'seller_name': 'black', 'seller_address': 'blueviolet', 'seller_tax_id': 'brown', 'iban': 'turquoise'}\n",
    "for prediction, box in zip(word_level_predictions, final_boxes):\n",
    "    predicted_label = iob_to_label(label_map[prediction]).lower()\n",
    "    if predicted_label:\n",
    "      draw.rectangle(box, outline=label2color[predicted_label])\n",
    "      draw.text((box[0] + 10, box[1] - 10), text=predicted_label, fill=label2color[predicted_label], font=font)\n",
    "image"
   ]
  },
  {
   "cell_type": "code",
   "execution_count": null,
   "metadata": {},
   "outputs": [],
   "source": []
  }
 ],
 "metadata": {
  "kernelspec": {
   "display_name": "layoutlm",
   "language": "python",
   "name": "python3"
  },
  "language_info": {
   "codemirror_mode": {
    "name": "ipython",
    "version": 3
   },
   "file_extension": ".py",
   "mimetype": "text/x-python",
   "name": "python",
   "nbconvert_exporter": "python",
   "pygments_lexer": "ipython3",
   "version": "3.9.18"
  }
 },
 "nbformat": 4,
 "nbformat_minor": 2
}
