{
 "cells": [
  {
   "cell_type": "code",
   "execution_count": 2,
   "metadata": {},
   "outputs": [],
   "source": [
    "labels=[\n",
    " 'CLIENT_TAX_ID',\n",
    " 'IBAN',\n",
    " 'INVOICE_DATE',\n",
    " 'INVOICE_NUMBER',\n",
    " 'SELLER_TAX_ID']"
   ]
  },
  {
   "cell_type": "code",
   "execution_count": 10,
   "metadata": {},
   "outputs": [],
   "source": [
    "CLIENT_TAX_ID=0\n",
    "IBAN=0\n",
    "INVOICE_DATE=0\n",
    "INVOICE_NUMBER=0\n",
    "SELLER_TAX_ID=0\n"
   ]
  },
  {
   "cell_type": "code",
   "execution_count": null,
   "metadata": {},
   "outputs": [],
   "source": [
    "with open(\"you foler path/content/data/train.txt\", \"r\") as file:\n",
    "    # Read each line and split by space\n",
    "    for line in file:\n",
    "        if line:\n",
    "            words = line.split()\n",
    "            if words:\n",
    "                if words[1] =='S-CLIENT_TAX_ID':\n",
    "                    CLIENT_TAX_ID+=1\n",
    "                elif words[1] =='S-IBAN':\n",
    "                    IBAN+=1\n",
    "                elif words[1] =='S-INVOICE_DATE':\n",
    "                    INVOICE_DATE+=1\n",
    "                elif words[1] =='S-INVOICE_NUMBER':\n",
    "                    INVOICE_NUMBER+=1\n",
    "                elif words[1] =='S-SELLER_TAX_ID':\n",
    "                    SELLER_TAX_ID+=1\n",
    "            \n",
    "            "
   ]
  },
  {
   "cell_type": "code",
   "execution_count": 12,
   "metadata": {},
   "outputs": [
    {
     "name": "stdout",
     "output_type": "stream",
     "text": [
      "799\n",
      "758\n",
      "799\n",
      "800\n",
      "793\n"
     ]
    }
   ],
   "source": [
    "print(CLIENT_TAX_ID)\n",
    "print(IBAN)\n",
    "print(INVOICE_DATE)\n",
    "print(INVOICE_NUMBER)\n",
    "print(SELLER_TAX_ID)"
   ]
  },
  {
   "cell_type": "code",
   "execution_count": null,
   "metadata": {},
   "outputs": [],
   "source": []
  }
 ],
 "metadata": {
  "kernelspec": {
   "display_name": "layoutlm",
   "language": "python",
   "name": "python3"
  },
  "language_info": {
   "codemirror_mode": {
    "name": "ipython",
    "version": 3
   },
   "file_extension": ".py",
   "mimetype": "text/x-python",
   "name": "python",
   "nbconvert_exporter": "python",
   "pygments_lexer": "ipython3",
   "version": "3.9.18"
  }
 },
 "nbformat": 4,
 "nbformat_minor": 2
}
