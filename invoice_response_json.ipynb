{
 "cells": [
  {
   "cell_type": "code",
   "execution_count": null,
   "metadata": {},
   "outputs": [],
   "source": [
    "from content.layout_lm_tutorial.layoutlm_preprocess import *\n",
    "import pytesseract\n",
    "from PIL import Image\n",
    "import cv2\n",
    "import json"
   ]
  },
  {
   "cell_type": "code",
   "execution_count": null,
   "metadata": {},
   "outputs": [],
   "source": [
    "# def get_input():\n",
    "#     image_path = 'path to your folder /data/testing_data/images/invoice_250-page-1.jpg'\n",
    "#     image = cv2.imread(image_path)\n",
    "#     return image"
   ]
  },
  {
   "cell_type": "code",
   "execution_count": null,
   "metadata": {},
   "outputs": [],
   "source": [
    "def iob_to_label(label):\n",
    "  if label != 'O':\n",
    "    return label[2:]\n",
    "  else:\n",
    "    return \"\""
   ]
  },
  {
   "cell_type": "code",
   "execution_count": null,
   "metadata": {},
   "outputs": [],
   "source": [
    "def get_labels(path):\n",
    "    with open(path, \"r\") as f:\n",
    "        labels = f.read().splitlines()\n",
    "    if \"O\" not in labels:\n",
    "        labels = [\"O\"] + labels\n",
    "    return labels"
   ]
  },
  {
   "cell_type": "code",
   "execution_count": null,
   "metadata": {},
   "outputs": [],
   "source": [
    "def get_response(image_path, num_labels, label_map, final_predictions):\n",
    "    model_path='path to your folder /layoutlm_invoices_May6_100epoch.pt'\n",
    "    model=model_load(model_path,num_labels)\n",
    "    image, words, boxes, actual_boxes = preprocess(image_path)\n",
    "\n",
    "    word_level_predictions, final_boxes=convert_to_features(image, words, boxes, actual_boxes, model)\n",
    "    for prediction, box in zip(word_level_predictions, final_boxes):\n",
    "        predicted_label = iob_to_label(label_map[prediction]).upper()\n",
    "        if predicted_label:\n",
    "            x1, y1, x2, y2 = box\n",
    "            # Crop image to the rectangle\n",
    "            image=np.array(image)\n",
    "            cropped_image = image[y1-10:y2+10, x1-10:x2+10]\n",
    "\n",
    "            # Perform OCR on the cropped region\n",
    "            text = pytesseract.image_to_string(cropped_image)\n",
    "            \n",
    "            # Print the extracted text\n",
    "            if len(text)>2:\n",
    "                # print(predicted_label, text)\n",
    "                final_predictions[predicted_label].add(text.strip('\\n\\x0c'))\n",
    "    \n",
    "    return final_predictions"
   ]
  },
  {
   "cell_type": "code",
   "execution_count": null,
   "metadata": {},
   "outputs": [],
   "source": [
    "def json_data (response):\n",
    "    response = {key: list(value) for key, value in response.items()}\n",
    "    # Restructure the data\n",
    "    restructured_data = {\n",
    "        \"InvoiceInfo\": {\n",
    "            \"InvoiceNo\": response[\"INVOICE_NUMBER\"][0] if response[\"INVOICE_NUMBER\"] else \"\",\n",
    "            \"DateOfIssue\": response[\"INVOICE_DATE\"][0] if response[\"INVOICE_DATE\"] else \"\"\n",
    "        },\n",
    "        \"Seller\": {\n",
    "            \"Name\": response[\"SELLER_NAME\"][0] if response[\"SELLER_NAME\"] else \"\",\n",
    "            \"TaxId\": response[\"SELLER_TAX_ID\"][0] if response[\"SELLER_TAX_ID\"] else \"\",\n",
    "            \"Address\": \" \".join(response[\"SELLER_ADDRESS\"]) if response[\"SELLER_ADDRESS\"] else \"\",\n",
    "            \"IBAN\": response[\"IBAN\"][0] if response[\"IBAN\"] else \"\"\n",
    "        },\n",
    "        \"Client\": {\n",
    "            \"Name\": \" \".join(response[\"CLIENT_NAME\"]) if response[\"CLIENT_NAME\"] else \"\",\n",
    "            \"TaxId\": response[\"CLIENT_TAX_ID\"][0] if response[\"CLIENT_TAX_ID\"] else \"\",\n",
    "            \"Address\": \" \".join(response[\"CLIENT_ADDRESS\"]) if response[\"CLIENT_ADDRESS\"] else \"\"\n",
    "        },\n",
    "        \"file_name\": response[\"file_name\"] if response[\"file_name\"] else \"\"\n",
    "    }\n",
    "    # Convert restructured data to JSON format\n",
    "    restructured_json = json.dumps(restructured_data, indent=2)\n",
    "    return restructured_json"
   ]
  },
  {
   "cell_type": "code",
   "execution_count": null,
   "metadata": {},
   "outputs": [],
   "source": [
    "def invoice_response():\n",
    "    labels = get_labels(\"path to your folder /data/labels.txt\")\n",
    "    num_labels = len(labels)\n",
    "    label_map = {i: label for i, label in enumerate(labels)}\n",
    "    invoice_labels = set([item[2:] for item in label_map.values() if len(item) > 1])\n",
    "    # invoice_labels.add(\"file_name\")\n",
    "    final_predictions = {item: set() for item in invoice_labels}\n",
    "    image_path= \"path to your folder /data/testing_data/images/invoice_250-page-1.jpg\"\n",
    "    response=get_response(image_path, num_labels, label_map, final_predictions)\n",
    "    response.update({'file_name': image_path})\n",
    "    json_response = json_data (response)\n",
    "    return json_response"
   ]
  },
  {
   "cell_type": "code",
   "execution_count": null,
   "metadata": {},
   "outputs": [],
   "source": [
    "response = invoice_response()"
   ]
  },
  {
   "cell_type": "code",
   "execution_count": null,
   "metadata": {},
   "outputs": [],
   "source": [
    "print(response)"
   ]
  },
  {
   "cell_type": "code",
   "execution_count": null,
   "metadata": {},
   "outputs": [],
   "source": []
  }
 ],
 "metadata": {
  "kernelspec": {
   "display_name": "layoutlm",
   "language": "python",
   "name": "python3"
  },
  "language_info": {
   "codemirror_mode": {
    "name": "ipython",
    "version": 3
   },
   "file_extension": ".py",
   "mimetype": "text/x-python",
   "name": "python",
   "nbconvert_exporter": "python",
   "pygments_lexer": "ipython3",
   "version": "3.9.18"
  }
 },
 "nbformat": 4,
 "nbformat_minor": 2
}
